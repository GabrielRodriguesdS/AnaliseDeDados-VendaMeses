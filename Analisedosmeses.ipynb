{
 "cells": [
  {
   "cell_type": "code",
   "execution_count": 39,
   "id": "1b430440",
   "metadata": {},
   "outputs": [],
   "source": [
    "import pandas as pd"
   ]
  },
  {
   "cell_type": "markdown",
   "id": "446940a0",
   "metadata": {},
   "source": [
    "### Passo a Passo de solução"
   ]
  },
  {
   "cell_type": "code",
   "execution_count": 41,
   "id": "4d48b1aa",
   "metadata": {},
   "outputs": [
    {
     "name": "stdout",
     "output_type": "stream",
     "text": [
      "No mês de maio alguém bateu a meta!!!\n",
      "Nome do vendedor:Hash, Valor das vendas:57312\n"
     ]
    }
   ],
   "source": [
    "lista_meses = ['janeiro','fevereiro','março','abril','maio','junho']\n",
    "\n",
    "for mes in lista_meses:\n",
    "    tabela_vendas = pd.read_excel(f'{mes}.xlsx')\n",
    "    if (tabela_vendas['Vendas'] > 55000).any():\n",
    "        vendedor = tabela_vendas.loc [tabela_vendas['Vendas'] > 55000, 'Vendedor'].values[0]\n",
    "        vendas = tabela_vendas.loc[tabela_vendas['Vendas'] > 55000, 'Vendas'].values[0]\n",
    "        print(f'No mês de {mes} alguém bateu a meta!!!')\n",
    "        print(f'Nome do vendedor:{vendedor}, Valor das vendas:{vendas}')\n",
    "    "
   ]
  },
  {
   "cell_type": "code",
   "execution_count": null,
   "id": "488cb8e0",
   "metadata": {},
   "outputs": [],
   "source": []
  }
 ],
 "metadata": {
  "kernelspec": {
   "display_name": "Python 3",
   "language": "python",
   "name": "python3"
  },
  "language_info": {
   "codemirror_mode": {
    "name": "ipython",
    "version": 3
   },
   "file_extension": ".py",
   "mimetype": "text/x-python",
   "name": "python",
   "nbconvert_exporter": "python",
   "pygments_lexer": "ipython3",
   "version": "3.8.8"
  }
 },
 "nbformat": 4,
 "nbformat_minor": 5
}
